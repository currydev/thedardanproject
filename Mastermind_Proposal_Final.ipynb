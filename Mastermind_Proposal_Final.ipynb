{
 "cells": [
  {
   "cell_type": "markdown",
   "metadata": {},
   "source": [
    "# Mastermind - Project Proposal"
   ]
  },
  {
   "cell_type": "markdown",
   "metadata": {},
   "source": [
    "This program lets the user play the game Mastermind. A hidden code is generated depending on how many digits the user\n",
    "wants to guess. A maximum of 12 attempts is given in order to guess the code, each digit taking on a value of 1-8.\n",
    "Every attempt that is put in by the user is evaluated by using red and white markers.\n",
    "A red marker indicates a correct digit at the right position in the code.\n",
    "A white marker indicates a correct digit appearing at a different position in the code."
   ]
  },
  {
   "cell_type": "code",
   "execution_count": null,
   "metadata": {},
   "outputs": [],
   "source": [
    "#import random\n",
    "import numpy as np\n",
    "np.random.seed(123) \n",
    "# Seed = 123: Correct Easy (7-6-7-3); Medium (7-6-7-3-5); Hard (7-6-7-3-5-3); Insane (7-6-7-3-5-3-7-2)"
   ]
  },
  {
   "cell_type": "code",
   "execution_count": null,
   "metadata": {},
   "outputs": [],
   "source": [
    "ATTEMPTS = 12  # max. number of attempts for cracking the code\n",
    "code = []  # the correct code will be stored in a list\n",
    "backup_code = [] # a backup list of the correct code will be needed later on\n",
    "code_digits = [4]\n",
    "nr_attempts = [0]  # counts the number of attempts\n",
    "guesses = []\n",
    "backup_guesses = []  # backup of the digits that the user puts in for each attempt\n",
    "markers = [0, 0]"
   ]
  },
  {
   "cell_type": "code",
   "execution_count": null,
   "metadata": {},
   "outputs": [],
   "source": [
    "def main():\n",
    "    #play_or_leaderboard()\n",
    "    #instructions()\n",
    "    #player_name = input(\"What is your name? \")  # the user can set his or her name\n",
    "    #set_difficulty(code_digits)\n",
    "    generate_random_code(code_digits, code, backup_code)  # generating the correct code randomly\n",
    "    game_flow(markers, code_digits, nr_attempts)"
   ]
  },
  {
   "cell_type": "markdown",
   "metadata": {
    "heading_collapsed": true
   },
   "source": [
    "### Hide"
   ]
  },
  {
   "cell_type": "code",
   "execution_count": null,
   "metadata": {
    "hidden": true
   },
   "outputs": [],
   "source": [
    "def intro():\n",
    "    decision = input(prompt = 'ARE YOU A MASTERMIND?\\n\\nPress \"Enter\" if you want to play the game and type in \"Leaderboard\" if you want to see some stats!\\n\\nDo you want to play or see the leaderboard? ')\n",
    "    while True:\n",
    "        if decision == \"Leaderboard\":\n",
    "            print(\"YES\\n\\n*****\")\n",
    "            break\n",
    "            # show leaderboard\n",
    "        elif decision == \"\":\n",
    "            break\n",
    "        else:\n",
    "            decision = input('ERROR MESSAGE HERE! \\n\\nARE YOU A MASTERMIND?\\n\\nPress \"Enter\" if you want to play the game and type in \"Leaderboard\" if you want to see some stats!\\n\\nDo you want to play or see the leaderboard? ')\n",
    "                                  "
   ]
  },
  {
   "cell_type": "code",
   "execution_count": null,
   "metadata": {
    "hidden": true
   },
   "outputs": [],
   "source": [
    "def set_difficulty(code_digits):\n",
    "    difficulty = input(\"Please enter your difficulty level. Easy (4 digits), Medium (5 digits), Hard (6 digits), Insane (8 digits)\")\n",
    "    while True:\n",
    "        if difficulty == \"Easy\":\n",
    "            code_digits[0] = 4\n",
    "            break\n",
    "        elif difficulty == \"Medium\":\n",
    "            code_digits[0] = 5\n",
    "            break\n",
    "        elif difficulty == \"Hard\":\n",
    "            code_digits[0] = 6\n",
    "            break\n",
    "        elif difficulty == \"Insane\":\n",
    "            code_digits[0] = 8\n",
    "            break\n",
    "        else:\n",
    "            difficulty = input(\"Wrong difficulty level entered! Please enter your difficulty level. Easy (4 digits), Medium (5 digits), Hard (6 digits), Insane (8 digits)\")\n",
    "    \n",
    "    return code_digits\n",
    "            "
   ]
  },
  {
   "cell_type": "code",
   "execution_count": null,
   "metadata": {
    "hidden": true
   },
   "outputs": [],
   "source": [
    "# the function matches the number of digits depending on how many digits the user chose for the game\n",
    "\n",
    "def generate_random_code(code_digits, code, backup_code):\n",
    "    for i in range(code_digits[0]):  # a for loop generates a random number between 1 and 8 and stores it in two lists\n",
    "        random_digit = str(np.random.randint(1, 8))\n",
    "        code.append(random_digit)\n",
    "        backup_code.append(random_digit)\n",
    "        \n",
    "    return code, backup_code"
   ]
  },
  {
   "cell_type": "markdown",
   "metadata": {},
   "source": [
    "### WIP"
   ]
  },
  {
   "cell_type": "code",
   "execution_count": null,
   "metadata": {},
   "outputs": [],
   "source": [
    "# asks the user for input\n",
    "\n",
    "def ask_input(code_digits, guesses, backup_guesses):  # asks the user for input and stores it in two lists\n",
    "    del backup_guesses[:] # deletes whatever is in input_backup_guess, otherwise it will append all digits from every attempt into a big string\n",
    "    for i in range(code_digits[0]):  # for loop runs as necessary depending on how many digits the user wanted\n",
    "        ask_guess = input(\"Please enter the \" + str(i + 1) + \". digit: \")  # asks for input\n",
    "        guesses.append(ask_guess)\n",
    "        backup_guesses.append(ask_guess)\n",
    "        \n",
    "    return guesses, backup_guesses"
   ]
  },
  {
   "cell_type": "code",
   "execution_count": null,
   "metadata": {},
   "outputs": [],
   "source": [
    "def check_markers(code_digits, guesses, backup_guesses, code, backup_code, markers, nr_attempts):\n",
    "    for j in range(code_digits[0]):\n",
    "        code[j] = backup_code[j]\n",
    "    \n",
    "    for l in range(code_digits[0]):\n",
    "        guesses[l] = backup_guesses[l] \n",
    "    \n",
    "    for s in range(len(markers)):\n",
    "        markers[s] = 0\n",
    "\n",
    "    for i in range(code_digits[0]):\n",
    "        if guesses[i] == code[i]:\n",
    "            markers[0] += 1\n",
    "            code[i] = str(\"A\")  # changes the digit to an \"A\" to avoid double counting it as a white marker\n",
    "            guesses[i] = str(\"Z\")  # changes the digit to a \"Z\" to avoid double counting it as a white marker\n",
    "\n",
    "    for k in range(code_digits[0]):\n",
    "        if guesses[k] in code:  # for any given k we check if the digit in guess appears in correct_code\n",
    "            markers[1] += 1  # if so, we add one to our variable counting white markers\n",
    "            white_index = code.index(guesses[k])  # we determine the index of the digit in correct_code\n",
    "            code[white_index] = str(\"A\")  # the digit at the determined index is set to an \"A\" to avoid double counting\n",
    "            guesses[k] = str(\"Z\")  # changes the digit to a \"Z\" to avoid double counting\n",
    "\n",
    "    nr_attempts[0] += 1\n",
    "    \n",
    "    return markers, nr_attempts\n"
   ]
  },
  {
   "cell_type": "code",
   "execution_count": null,
   "metadata": {},
   "outputs": [],
   "source": [
    "def print_history(history, nr_attempts, backup_guesses, markers):\n",
    "    history += f\"\\nHistory:\\nIn attempt {nr_attempts[0]} you entered \" + \"-\".join(backup_guesses) + f\". You got {markers[0]} red marker(s) and {markers[1]} white marker(s).\\n\\n____________________________________________________________________________\\n\"\n",
    "    print(history)\n",
    "    "
   ]
  },
  {
   "cell_type": "code",
   "execution_count": null,
   "metadata": {},
   "outputs": [],
   "source": [
    "def game_flow(markers, code_digits, nr_attempts):\n",
    "    while not markers[0] == code_digits[0]:  # while loop checks if the user got all digits of the game correct\n",
    "        if nr_attempts[0] == ATTEMPTS:  # after the 12th attempt the user loses the game\n",
    "            print(\"BAMM! The correct code was \" + '\"' + \"-\".join(backup_code) + '\"' + \". You failed!\")\n",
    "            break\n",
    "        history = \"\\n\" # stores the history of each attempt & its number of red and white markers\n",
    "        ask_input(code_digits, guesses, backup_guesses)\n",
    "        check_markers(code_digits, guesses, backup_guesses, code, backup_code, markers, nr_attempts)\n",
    "        #history += f\"\\nHistory:\\nIn attempt {nr_attempts[0]} you entered \" + \"-\".join(backup_guesses) + f\". You got {markers[0]} red marker(s) and {markers[1]} white marker(s).\\n\\n____________________________________________________________________________\\n\"\n",
    "        #print(history)\n",
    "        print_history(history, nr_attempts, backup_guesses, markers)\n",
    "    print(\"You cracked the code! Congratulations! Keep on rocking it!\")\n",
    "     "
   ]
  },
  {
   "cell_type": "code",
   "execution_count": null,
   "metadata": {},
   "outputs": [],
   "source": [
    "if __name__ == '__main__':\n",
    "    main()"
   ]
  },
  {
   "cell_type": "markdown",
   "metadata": {
    "heading_collapsed": true
   },
   "source": [
    "# WIP"
   ]
  },
  {
   "cell_type": "code",
   "execution_count": null,
   "metadata": {
    "hidden": true
   },
   "outputs": [],
   "source": [
    "def instructions():\n",
    "    print(f'CRACK THE CODE IN {str(ATTEMPTS)} ATTEMPTS OR LESS! DIGITS RANGE FROM 1 TO 8.\\n\\nA CORRECT DIGIT AT THE CORRECT POSITION IS INDICATED BY A RED MARKER, A CORRECT DIGIT AT A WRONG POSITION BY A WHITE ONE.\\n\\nGOOD LUCK TO YOU \\U0001F525\\n*****')"
   ]
  },
  {
   "cell_type": "code",
   "execution_count": null,
   "metadata": {
    "hidden": true
   },
   "outputs": [],
   "source": [
    "def show_leaderboard():\n",
    "    # use pandas to build it and fill it in with fake highscores\n",
    "    # create a function/method that can be used to reset the highscores to these settings"
   ]
  },
  {
   "cell_type": "code",
   "execution_count": null,
   "metadata": {
    "hidden": true
   },
   "outputs": [],
   "source": [
    "class Player:\n",
    "    def __init__(self, player_name):\n",
    "        self.name = player_name\n",
    "        \n",
    "    def show_leaderboard(self, digits):\n",
    "        # input digits to show current leaderboard top 3 - name, day tag (use module), # attempts, time played\n",
    "        # universal leaderboard that has a function incorporating the difficulty too\n",
    "        \n",
    "    def instructions(self):\n",
    "        #display how to play the game\n",
    "        \n",
    "    def player_stats(self, name):\n",
    "        # show # games played, total time played, total wins, total losses\n",
    "        \n",
    "    def give_hint(self):\n",
    "        # show a random number that appears in the code (somewhere)\n",
    "        \n",
    "    def show_correct(self):\n",
    "        # shows a random correct red marker\n",
    "        # integrate with hint counter and point system -> no hints, corrects used, how many attempts, how much time\n",
    "        # integrate difficulty level? -> different point systems, easy-hard: 4-6 digits?\n",
    "        \n",
    "    def solution(self):\n",
    "        # show the code soltuion but make this hidden and dont let player know abozt it -> testing purposes only\n",
    "        \n",
    "    def delete_leaderboard(self, digits):\n",
    "    \n",
    "# after every round user can specify what he wants to do -> play, or one of the above (can show a list with possible actions or command that shows this list like help)\n",
    "# user can change number of attempts?\n",
    "        "
   ]
  },
  {
   "cell_type": "code",
   "execution_count": null,
   "metadata": {
    "hidden": true
   },
   "outputs": [],
   "source": [
    "#\n",
    "history = \"\\n\"\n",
    "def print_history(history, nr_attempts = [1], backup_guesses = [7,6,3,2], markers= [2,1]):\n",
    "    history += str(\"In attempt \" + str(1) + \" you entered \" + \"-\".join([7,6,3,2]) + str(\n",
    "                \". You got \" + str(2) + \" red marker(s) and \" + str(markers[\n",
    "                    1]) + \" white marker(s).\\n\"))  # shows combination put in & number of red and white markers per attempt\n",
    "    print(\"\\nHistory:\" + history)\n",
    "    print(\"____________________________________________________________________________\\n\")"
   ]
  },
  {
   "cell_type": "code",
   "execution_count": null,
   "metadata": {
    "hidden": true
   },
   "outputs": [],
   "source": [
    "history = \"\"\n",
    "def print_history(history = \"\\n\", nr_attempts = [1], backup_guesses = [\"7\",\"6\",\"3\",\"2\"], markers= [2,1]):\n",
    "    history += f\"\\nHistory:\\nIn attempt {nr_attempts[0]} you entered \" + \"-\".join(backup_guesses) + f\". You got {markers[0]} red marker(s) and {markers[1]} white marker(s).\\n\\n____________________________________________________________________________\\n\"\n",
    "    history_list.append(history)\n",
    "    print(history_list)\n",
    "    "
   ]
  },
  {
   "cell_type": "code",
   "execution_count": null,
   "metadata": {
    "hidden": true
   },
   "outputs": [],
   "source": [
    "print_history(history)"
   ]
  },
  {
   "cell_type": "code",
   "execution_count": null,
   "metadata": {
    "hidden": true
   },
   "outputs": [],
   "source": [
    "history_dict = {\"1. attempt\": [7,5,4,3], \n",
    "               \"2. attempt\": [7,6,7,7]}\n",
    "\n",
    "history_dict[]"
   ]
  },
  {
   "cell_type": "code",
   "execution_count": null,
   "metadata": {
    "hidden": true
   },
   "outputs": [],
   "source": [
    "str_hist = f\"In attempt {history_dict[nr_attempts-1]}\"\n",
    "\n",
    "def print_history(history, nr_attempts, backup_guesses, markers):\n",
    "    history += f\"In attempt {nr_attempts[0]} you entered \" + \"-\".join(backup_guesses) + f\". You got {markers[0]} red marker(s) and {markers[1]} white marker(s).\\n\"\n",
    "    print(f\"\\nHistory:\\n{history}\\n____________________________________________________________________________\\n\")\n",
    "    \n",
    "    return history\n",
    "    "
   ]
  }
 ],
 "metadata": {
  "kernelspec": {
   "display_name": "Python 3",
   "language": "python",
   "name": "python3"
  },
  "language_info": {
   "codemirror_mode": {
    "name": "ipython",
    "version": 3
   },
   "file_extension": ".py",
   "mimetype": "text/x-python",
   "name": "python",
   "nbconvert_exporter": "python",
   "pygments_lexer": "ipython3",
   "version": "3.8.8"
  }
 },
 "nbformat": 4,
 "nbformat_minor": 4
}
